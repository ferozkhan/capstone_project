{
 "cells": [
  {
   "cell_type": "code",
   "execution_count": 363,
   "metadata": {},
   "outputs": [],
   "source": [
    "import pandas as pd\n",
    "import numpy as np\n",
    "import foursquare\n",
    "import folium\n",
    "from IPython.display import IFrame\n",
    "from ipywidgets.embed import embed_minimal_html\n",
    "CLIENT_ID='WBX0QW53DULYJV1LO1BB1BIGKZ44G5RS04VDGBGOYZW4TY0H'\n",
    "CLIENT_SECRET='22Y31ENCPNK0ALN0R0MXTELQ1OGKTKRHQ03VRLJT401GXFAW'\n",
    "foursquare_client = foursquare.Foursquare(client_id=CLIENT_ID, \n",
    "                               client_secret=CLIENT_SECRET, \n",
    "                               redirect_uri='http://fondu.com/oauth/authorize')\n"
   ]
  },
  {
   "cell_type": "code",
   "execution_count": null,
   "metadata": {},
   "outputs": [],
   "source": []
  },
  {
   "cell_type": "code",
   "execution_count": null,
   "metadata": {},
   "outputs": [],
   "source": []
  },
  {
   "cell_type": "code",
   "execution_count": 174,
   "metadata": {},
   "outputs": [],
   "source": [
    "import seaborn as sns\n",
    "import matplotlib.pyplot as plt\n",
    "from scipy import stats\n",
    "import requests"
   ]
  },
  {
   "cell_type": "code",
   "execution_count": 175,
   "metadata": {},
   "outputs": [],
   "source": [
    "starbucks_location = foursquare_client.venues.search(params={\n",
    "    'query': 'starbucks',                                                         \n",
    "    'll': '37.7749, -122.4194'\n",
    "})"
   ]
  },
  {
   "cell_type": "code",
   "execution_count": 176,
   "metadata": {},
   "outputs": [],
   "source": [
    "SF_COORDINATES = (37.76, -122.45)"
   ]
  },
  {
   "cell_type": "markdown",
   "metadata": {},
   "source": [
    "#####     "
   ]
  },
  {
   "cell_type": "markdown",
   "metadata": {},
   "source": [
    "## Starbucks existing outlets in San Francisco\n",
    "<hr/>"
   ]
  },
  {
   "cell_type": "code",
   "execution_count": 345,
   "metadata": {},
   "outputs": [
    {
     "data": {
      "text/html": [
       "\n",
       "        <iframe\n",
       "            width=\"700\"\n",
       "            height=\"500\"\n",
       "            src=\"existing_starbucks.html\"\n",
       "            frameborder=\"0\"\n",
       "            allowfullscreen\n",
       "        ></iframe>\n",
       "        "
      ],
      "text/plain": [
       "<IPython.lib.display.IFrame at 0x1a2d218b00>"
      ]
     },
     "execution_count": 345,
     "metadata": {},
     "output_type": "execute_result"
    }
   ],
   "source": [
    "m = folium.Map(location=SF_COORDINATES, zoom_start=12)\n",
    "for i, venue in enumerate(starbucks_location['venues'], 1):\n",
    "    location = venue['location']\n",
    "    folium.Marker(location=[location['lat'], location['lng']]).add_to(m)\n",
    "m.save('existing_starbucks.html')\n",
    "IFrame(src='existing_starbucks.html', width=700, height=500)"
   ]
  },
  {
   "cell_type": "code",
   "execution_count": null,
   "metadata": {},
   "outputs": [],
   "source": []
  },
  {
   "cell_type": "code",
   "execution_count": 179,
   "metadata": {},
   "outputs": [],
   "source": [
    "outlets_details = []\n",
    "for venue in starbucks_location['venues']:\n",
    "    outlet_detail = foursquare_client.venues(venue['id'])\n",
    "    outlets_details.append(outlet_detail)"
   ]
  },
  {
   "cell_type": "code",
   "execution_count": 180,
   "metadata": {},
   "outputs": [],
   "source": [
    "outlets_popularity = []\n",
    "added_venue_id = []\n",
    "for i, v in enumerate(outlets_details, 1):\n",
    "    stats = v['venue']['stats']\n",
    "    popularity = stats.get('checkinsCount', 0) + stats.get('tipCount', 0) + stats.get('usersCount', 0)\n",
    "    if v['venue']['id'] not in added_venue_id:\n",
    "        added_venue_id.append(v['venue']['id'])\n",
    "        outlets_popularity.append({'id': v['venue']['id'], \n",
    "                                   'popularity_count': popularity, \n",
    "                                   'location': v['venue']['location']})"
   ]
  },
  {
   "cell_type": "code",
   "execution_count": 181,
   "metadata": {},
   "outputs": [],
   "source": [
    "outlets_popularity = sorted(outlets_popularity, key=lambda x: -x['popularity_count'])"
   ]
  },
  {
   "cell_type": "markdown",
   "metadata": {},
   "source": [
    "####     "
   ]
  },
  {
   "cell_type": "markdown",
   "metadata": {},
   "source": [
    "### Map showing the outlet popularity index using bigger to the smaller circle. The bigger circle shows the highest popular, while smaller shows the least popular."
   ]
  },
  {
   "cell_type": "code",
   "execution_count": 346,
   "metadata": {},
   "outputs": [
    {
     "data": {
      "text/html": [
       "\n",
       "        <iframe\n",
       "            width=\"700\"\n",
       "            height=\"500\"\n",
       "            src=\"popular_starbucks.html\"\n",
       "            frameborder=\"0\"\n",
       "            allowfullscreen\n",
       "        ></iframe>\n",
       "        "
      ],
      "text/plain": [
       "<IPython.lib.display.IFrame at 0x1a2d271320>"
      ]
     },
     "execution_count": 346,
     "metadata": {},
     "output_type": "execute_result"
    }
   ],
   "source": [
    "m = folium.Map(location=[37.7749, -122.4194], zoom_start=14)\n",
    "for outlet in outlets_popularity:\n",
    "    location = outlet['location']\n",
    "    folium.CircleMarker(location=[location['lat'], location['lng']], \n",
    "                        radius=outlet['popularity_count'] * 0.01, \n",
    "                        weight=outlet['popularity_count'] * 0.25).add_to(m)\n",
    "m.save('popular_starbucks.html')\n",
    "IFrame(src='popular_starbucks.html', width=700, height=500)"
   ]
  },
  {
   "cell_type": "markdown",
   "metadata": {},
   "source": [
    "####    "
   ]
  },
  {
   "cell_type": "markdown",
   "metadata": {},
   "source": [
    "#### Prepare dataframe for further analysis"
   ]
  },
  {
   "cell_type": "code",
   "execution_count": 183,
   "metadata": {},
   "outputs": [],
   "source": [
    "df_data = []\n",
    "for outlet in outlets_popularity:\n",
    "    df_data.append({'id': outlet['id'], 'Popularity Count': outlet['popularity_count'],\n",
    "                   'Postal Code': outlet['location']['postalCode'], 'lat': outlet['location']['lat'],\n",
    "                   'lng': outlet['location']['lng']})"
   ]
  },
  {
   "cell_type": "code",
   "execution_count": 184,
   "metadata": {},
   "outputs": [
    {
     "data": {
      "text/plain": [
       "(30, 5)"
      ]
     },
     "execution_count": 184,
     "metadata": {},
     "output_type": "execute_result"
    }
   ],
   "source": [
    "outlet_dataframe = pd.DataFrame(df_data)\n",
    "outlet_dataframe.shape"
   ]
  },
  {
   "cell_type": "code",
   "execution_count": 185,
   "metadata": {},
   "outputs": [
    {
     "data": {
      "text/html": [
       "<div>\n",
       "<style scoped>\n",
       "    .dataframe tbody tr th:only-of-type {\n",
       "        vertical-align: middle;\n",
       "    }\n",
       "\n",
       "    .dataframe tbody tr th {\n",
       "        vertical-align: top;\n",
       "    }\n",
       "\n",
       "    .dataframe thead th {\n",
       "        text-align: right;\n",
       "    }\n",
       "</style>\n",
       "<table border=\"1\" class=\"dataframe\">\n",
       "  <thead>\n",
       "    <tr style=\"text-align: right;\">\n",
       "      <th></th>\n",
       "      <th>Popularity Count</th>\n",
       "      <th>Postal Code</th>\n",
       "      <th>id</th>\n",
       "      <th>lat</th>\n",
       "      <th>lng</th>\n",
       "    </tr>\n",
       "  </thead>\n",
       "  <tbody>\n",
       "    <tr>\n",
       "      <th>0</th>\n",
       "      <td>184</td>\n",
       "      <td>94103</td>\n",
       "      <td>431e2d80f964a5207c271fe3</td>\n",
       "      <td>37.784231</td>\n",
       "      <td>-122.403985</td>\n",
       "    </tr>\n",
       "    <tr>\n",
       "      <th>1</th>\n",
       "      <td>68</td>\n",
       "      <td>94103</td>\n",
       "      <td>4a7324d9f964a520aadb1fe3</td>\n",
       "      <td>37.787360</td>\n",
       "      <td>-122.403180</td>\n",
       "    </tr>\n",
       "    <tr>\n",
       "      <th>2</th>\n",
       "      <td>66</td>\n",
       "      <td>94109</td>\n",
       "      <td>4a47a834f964a520e6a91fe3</td>\n",
       "      <td>37.788567</td>\n",
       "      <td>-122.422220</td>\n",
       "    </tr>\n",
       "    <tr>\n",
       "      <th>3</th>\n",
       "      <td>60</td>\n",
       "      <td>94102</td>\n",
       "      <td>49ceab7df964a520705a1fe3</td>\n",
       "      <td>37.789148</td>\n",
       "      <td>-122.408452</td>\n",
       "    </tr>\n",
       "    <tr>\n",
       "      <th>4</th>\n",
       "      <td>55</td>\n",
       "      <td>94102</td>\n",
       "      <td>4a6a452ef964a52001cd1fe3</td>\n",
       "      <td>37.786170</td>\n",
       "      <td>-122.409060</td>\n",
       "    </tr>\n",
       "    <tr>\n",
       "      <th>5</th>\n",
       "      <td>55</td>\n",
       "      <td>94114</td>\n",
       "      <td>49fa1dc1f964a520c16d1fe3</td>\n",
       "      <td>37.760941</td>\n",
       "      <td>-122.434608</td>\n",
       "    </tr>\n",
       "    <tr>\n",
       "      <th>6</th>\n",
       "      <td>49</td>\n",
       "      <td>94118</td>\n",
       "      <td>49e5893bf964a520d6631fe3</td>\n",
       "      <td>37.786220</td>\n",
       "      <td>-122.453203</td>\n",
       "    </tr>\n",
       "    <tr>\n",
       "      <th>7</th>\n",
       "      <td>47</td>\n",
       "      <td>94110</td>\n",
       "      <td>4a1e071af964a520bb7b1fe3</td>\n",
       "      <td>37.762880</td>\n",
       "      <td>-122.410435</td>\n",
       "    </tr>\n",
       "    <tr>\n",
       "      <th>8</th>\n",
       "      <td>43</td>\n",
       "      <td>94102</td>\n",
       "      <td>49bee717f964a520f3541fe3</td>\n",
       "      <td>37.777090</td>\n",
       "      <td>-122.417298</td>\n",
       "    </tr>\n",
       "    <tr>\n",
       "      <th>9</th>\n",
       "      <td>42</td>\n",
       "      <td>94123</td>\n",
       "      <td>4a135140f964a520d3771fe3</td>\n",
       "      <td>37.797678</td>\n",
       "      <td>-122.430455</td>\n",
       "    </tr>\n",
       "    <tr>\n",
       "      <th>10</th>\n",
       "      <td>41</td>\n",
       "      <td>94105</td>\n",
       "      <td>4a2e8573f964a52019981fe3</td>\n",
       "      <td>37.791320</td>\n",
       "      <td>-122.392350</td>\n",
       "    </tr>\n",
       "    <tr>\n",
       "      <th>11</th>\n",
       "      <td>39</td>\n",
       "      <td>94108</td>\n",
       "      <td>4b1bf3aff964a5208cff23e3</td>\n",
       "      <td>37.790425</td>\n",
       "      <td>-122.405773</td>\n",
       "    </tr>\n",
       "    <tr>\n",
       "      <th>12</th>\n",
       "      <td>37</td>\n",
       "      <td>94108</td>\n",
       "      <td>4a6a2733f964a520b9cc1fe3</td>\n",
       "      <td>37.789360</td>\n",
       "      <td>-122.406820</td>\n",
       "    </tr>\n",
       "    <tr>\n",
       "      <th>13</th>\n",
       "      <td>35</td>\n",
       "      <td>94105</td>\n",
       "      <td>4a6dc9d5f964a520fcd21fe3</td>\n",
       "      <td>37.787902</td>\n",
       "      <td>-122.401144</td>\n",
       "    </tr>\n",
       "    <tr>\n",
       "      <th>14</th>\n",
       "      <td>31</td>\n",
       "      <td>94103</td>\n",
       "      <td>49bd6c9ef964a5207a541fe3</td>\n",
       "      <td>37.770190</td>\n",
       "      <td>-122.403465</td>\n",
       "    </tr>\n",
       "    <tr>\n",
       "      <th>15</th>\n",
       "      <td>29</td>\n",
       "      <td>94102</td>\n",
       "      <td>43bc02c3f964a520f42c1fe3</td>\n",
       "      <td>37.786159</td>\n",
       "      <td>-122.405695</td>\n",
       "    </tr>\n",
       "    <tr>\n",
       "      <th>16</th>\n",
       "      <td>29</td>\n",
       "      <td>94111</td>\n",
       "      <td>4ac52006f964a52077b020e3</td>\n",
       "      <td>37.791912</td>\n",
       "      <td>-122.398364</td>\n",
       "    </tr>\n",
       "    <tr>\n",
       "      <th>17</th>\n",
       "      <td>29</td>\n",
       "      <td>94103</td>\n",
       "      <td>4a55303af964a520d0b31fe3</td>\n",
       "      <td>37.765878</td>\n",
       "      <td>-122.403449</td>\n",
       "    </tr>\n",
       "    <tr>\n",
       "      <th>18</th>\n",
       "      <td>26</td>\n",
       "      <td>94103</td>\n",
       "      <td>49c7bfcaf964a520ba571fe3</td>\n",
       "      <td>37.784794</td>\n",
       "      <td>-122.399974</td>\n",
       "    </tr>\n",
       "    <tr>\n",
       "      <th>19</th>\n",
       "      <td>23</td>\n",
       "      <td>94105</td>\n",
       "      <td>44abe9e1f964a52009351fe3</td>\n",
       "      <td>37.788708</td>\n",
       "      <td>-122.400826</td>\n",
       "    </tr>\n",
       "    <tr>\n",
       "      <th>20</th>\n",
       "      <td>18</td>\n",
       "      <td>94103</td>\n",
       "      <td>5075e479e4b013a8f7229859</td>\n",
       "      <td>37.784605</td>\n",
       "      <td>-122.404078</td>\n",
       "    </tr>\n",
       "    <tr>\n",
       "      <th>21</th>\n",
       "      <td>17</td>\n",
       "      <td>94104</td>\n",
       "      <td>4addf20ff964a520986621e3</td>\n",
       "      <td>37.789594</td>\n",
       "      <td>-122.402032</td>\n",
       "    </tr>\n",
       "    <tr>\n",
       "      <th>22</th>\n",
       "      <td>11</td>\n",
       "      <td>94105</td>\n",
       "      <td>5a54df151f8ed63983bea1ff</td>\n",
       "      <td>37.791574</td>\n",
       "      <td>-122.395215</td>\n",
       "    </tr>\n",
       "    <tr>\n",
       "      <th>23</th>\n",
       "      <td>8</td>\n",
       "      <td>94107</td>\n",
       "      <td>49e74547f964a52082641fe3</td>\n",
       "      <td>37.778704</td>\n",
       "      <td>-122.396727</td>\n",
       "    </tr>\n",
       "    <tr>\n",
       "      <th>24</th>\n",
       "      <td>5</td>\n",
       "      <td>94105</td>\n",
       "      <td>5286906a498e3289da67629d</td>\n",
       "      <td>37.789462</td>\n",
       "      <td>-122.397582</td>\n",
       "    </tr>\n",
       "    <tr>\n",
       "      <th>25</th>\n",
       "      <td>4</td>\n",
       "      <td>94103</td>\n",
       "      <td>57a0e506498e6c087e114f97</td>\n",
       "      <td>37.784143</td>\n",
       "      <td>-122.407596</td>\n",
       "    </tr>\n",
       "    <tr>\n",
       "      <th>26</th>\n",
       "      <td>4</td>\n",
       "      <td>94103</td>\n",
       "      <td>582f520680e1af60b211b982</td>\n",
       "      <td>37.778418</td>\n",
       "      <td>-122.415123</td>\n",
       "    </tr>\n",
       "    <tr>\n",
       "      <th>27</th>\n",
       "      <td>3</td>\n",
       "      <td>94102</td>\n",
       "      <td>5850768b5d6ec67d737094c4</td>\n",
       "      <td>37.787989</td>\n",
       "      <td>-122.407522</td>\n",
       "    </tr>\n",
       "    <tr>\n",
       "      <th>28</th>\n",
       "      <td>3</td>\n",
       "      <td>94109</td>\n",
       "      <td>509a91f3e4b09409673fe51e</td>\n",
       "      <td>37.790268</td>\n",
       "      <td>-122.422066</td>\n",
       "    </tr>\n",
       "    <tr>\n",
       "      <th>29</th>\n",
       "      <td>0</td>\n",
       "      <td>94105</td>\n",
       "      <td>5c788e57da2e00002c1f200f</td>\n",
       "      <td>37.789707</td>\n",
       "      <td>-122.396868</td>\n",
       "    </tr>\n",
       "  </tbody>\n",
       "</table>\n",
       "</div>"
      ],
      "text/plain": [
       "    Popularity Count Postal Code                        id        lat  \\\n",
       "0                184       94103  431e2d80f964a5207c271fe3  37.784231   \n",
       "1                 68       94103  4a7324d9f964a520aadb1fe3  37.787360   \n",
       "2                 66       94109  4a47a834f964a520e6a91fe3  37.788567   \n",
       "3                 60       94102  49ceab7df964a520705a1fe3  37.789148   \n",
       "4                 55       94102  4a6a452ef964a52001cd1fe3  37.786170   \n",
       "5                 55       94114  49fa1dc1f964a520c16d1fe3  37.760941   \n",
       "6                 49       94118  49e5893bf964a520d6631fe3  37.786220   \n",
       "7                 47       94110  4a1e071af964a520bb7b1fe3  37.762880   \n",
       "8                 43       94102  49bee717f964a520f3541fe3  37.777090   \n",
       "9                 42       94123  4a135140f964a520d3771fe3  37.797678   \n",
       "10                41       94105  4a2e8573f964a52019981fe3  37.791320   \n",
       "11                39       94108  4b1bf3aff964a5208cff23e3  37.790425   \n",
       "12                37       94108  4a6a2733f964a520b9cc1fe3  37.789360   \n",
       "13                35       94105  4a6dc9d5f964a520fcd21fe3  37.787902   \n",
       "14                31       94103  49bd6c9ef964a5207a541fe3  37.770190   \n",
       "15                29       94102  43bc02c3f964a520f42c1fe3  37.786159   \n",
       "16                29       94111  4ac52006f964a52077b020e3  37.791912   \n",
       "17                29       94103  4a55303af964a520d0b31fe3  37.765878   \n",
       "18                26       94103  49c7bfcaf964a520ba571fe3  37.784794   \n",
       "19                23       94105  44abe9e1f964a52009351fe3  37.788708   \n",
       "20                18       94103  5075e479e4b013a8f7229859  37.784605   \n",
       "21                17       94104  4addf20ff964a520986621e3  37.789594   \n",
       "22                11       94105  5a54df151f8ed63983bea1ff  37.791574   \n",
       "23                 8       94107  49e74547f964a52082641fe3  37.778704   \n",
       "24                 5       94105  5286906a498e3289da67629d  37.789462   \n",
       "25                 4       94103  57a0e506498e6c087e114f97  37.784143   \n",
       "26                 4       94103  582f520680e1af60b211b982  37.778418   \n",
       "27                 3       94102  5850768b5d6ec67d737094c4  37.787989   \n",
       "28                 3       94109  509a91f3e4b09409673fe51e  37.790268   \n",
       "29                 0       94105  5c788e57da2e00002c1f200f  37.789707   \n",
       "\n",
       "           lng  \n",
       "0  -122.403985  \n",
       "1  -122.403180  \n",
       "2  -122.422220  \n",
       "3  -122.408452  \n",
       "4  -122.409060  \n",
       "5  -122.434608  \n",
       "6  -122.453203  \n",
       "7  -122.410435  \n",
       "8  -122.417298  \n",
       "9  -122.430455  \n",
       "10 -122.392350  \n",
       "11 -122.405773  \n",
       "12 -122.406820  \n",
       "13 -122.401144  \n",
       "14 -122.403465  \n",
       "15 -122.405695  \n",
       "16 -122.398364  \n",
       "17 -122.403449  \n",
       "18 -122.399974  \n",
       "19 -122.400826  \n",
       "20 -122.404078  \n",
       "21 -122.402032  \n",
       "22 -122.395215  \n",
       "23 -122.396727  \n",
       "24 -122.397582  \n",
       "25 -122.407596  \n",
       "26 -122.415123  \n",
       "27 -122.407522  \n",
       "28 -122.422066  \n",
       "29 -122.396868  "
      ]
     },
     "execution_count": 185,
     "metadata": {},
     "output_type": "execute_result"
    }
   ],
   "source": [
    "outlet_dataframe"
   ]
  },
  {
   "cell_type": "markdown",
   "metadata": {},
   "source": [
    "#### Lets explore top 3 outlets "
   ]
  },
  {
   "cell_type": "code",
   "execution_count": 186,
   "metadata": {},
   "outputs": [],
   "source": [
    "first_most_popular_outlet = outlet_dataframe.iloc[0]\n",
    "second_most_popular_outlet = outlet_dataframe.iloc[1]\n",
    "third_most_popular_outlet = outlet_dataframe.iloc[2]"
   ]
  },
  {
   "cell_type": "code",
   "execution_count": null,
   "metadata": {},
   "outputs": [],
   "source": []
  },
  {
   "cell_type": "code",
   "execution_count": 187,
   "metadata": {},
   "outputs": [],
   "source": [
    "first_venue_details = foursquare_client.venues.explore(params={'ll': '{}, {}'.format(first_most_popular_outlet.lat,\n",
    "                                                                                    first_most_popular_outlet.lng), \n",
    "                                                               'radius': 250})\n",
    "second_venue_details = foursquare_client.venues.explore(params={'ll': '{}, {}'.format(second_most_popular_outlet.lat,\n",
    "                                                                                    second_most_popular_outlet.lng), \n",
    "                                                               'radius': 250})\n",
    "third_venue_details = foursquare_client.venues.explore(params={'ll': '{}, {}'.format(third_most_popular_outlet.lat,\n",
    "                                                                                    third_most_popular_outlet.lng), \n",
    "                                                               'radius': 250})"
   ]
  },
  {
   "cell_type": "code",
   "execution_count": 188,
   "metadata": {},
   "outputs": [],
   "source": [
    "def get_nearby_category(data):\n",
    "    near_by = []\n",
    "    for area in data['groups'][0]['items']:\n",
    "        near_by.append({\n",
    "            'venue_id':area['venue']['id'], \n",
    "            'category': area['venue']['categories'][0]['pluralName'],\n",
    "            'category_id': area['venue']['categories'][0]['id'],\n",
    "            'lat': area['venue']['location']['lat'],\n",
    "            'lng': area['venue']['location']['lng'],\n",
    "        })\n",
    "    return near_by"
   ]
  },
  {
   "cell_type": "code",
   "execution_count": 189,
   "metadata": {},
   "outputs": [],
   "source": [
    "first_venue_nearby_category = get_nearby_category(first_venue_details)\n",
    "second_venue_nearby_category = get_nearby_category(second_venue_details)\n",
    "third_venue_nearby_category = get_nearby_category(third_venue_details)\n"
   ]
  },
  {
   "cell_type": "code",
   "execution_count": 213,
   "metadata": {},
   "outputs": [],
   "source": [
    "top_nearby_category = first_venue_nearby_category + second_venue_nearby_category + third_venue_nearby_category\n",
    "top_nearby_category = pd.DataFrame(top_nearby_category)"
   ]
  },
  {
   "cell_type": "code",
   "execution_count": 217,
   "metadata": {},
   "outputs": [
    {
     "data": {
      "text/html": [
       "<div>\n",
       "<style scoped>\n",
       "    .dataframe tbody tr th:only-of-type {\n",
       "        vertical-align: middle;\n",
       "    }\n",
       "\n",
       "    .dataframe tbody tr th {\n",
       "        vertical-align: top;\n",
       "    }\n",
       "\n",
       "    .dataframe thead th {\n",
       "        text-align: right;\n",
       "    }\n",
       "</style>\n",
       "<table border=\"1\" class=\"dataframe\">\n",
       "  <thead>\n",
       "    <tr style=\"text-align: right;\">\n",
       "      <th></th>\n",
       "      <th>category</th>\n",
       "      <th>category_id</th>\n",
       "      <th>lat</th>\n",
       "      <th>lng</th>\n",
       "      <th>venue_id</th>\n",
       "    </tr>\n",
       "  </thead>\n",
       "  <tbody>\n",
       "    <tr>\n",
       "      <th>0</th>\n",
       "      <td>Gardens</td>\n",
       "      <td>4bf58dd8d48988d15a941735</td>\n",
       "      <td>37.784809</td>\n",
       "      <td>-122.402549</td>\n",
       "      <td>49c94f32f964a52054581fe3</td>\n",
       "    </tr>\n",
       "    <tr>\n",
       "      <th>1</th>\n",
       "      <td>Grocery Stores</td>\n",
       "      <td>4bf58dd8d48988d118951735</td>\n",
       "      <td>37.785540</td>\n",
       "      <td>-122.405455</td>\n",
       "      <td>58a3a06dbbec6606e1b580a3</td>\n",
       "    </tr>\n",
       "    <tr>\n",
       "      <th>2</th>\n",
       "      <td>Burger Joints</td>\n",
       "      <td>4bf58dd8d48988d16c941735</td>\n",
       "      <td>37.784816</td>\n",
       "      <td>-122.403537</td>\n",
       "      <td>5010936ce4b0abd8740f8fb7</td>\n",
       "    </tr>\n",
       "    <tr>\n",
       "      <th>3</th>\n",
       "      <td>Tea Rooms</td>\n",
       "      <td>4bf58dd8d48988d1dc931735</td>\n",
       "      <td>37.784253</td>\n",
       "      <td>-122.402179</td>\n",
       "      <td>45e86d76f964a5206a431fe3</td>\n",
       "    </tr>\n",
       "    <tr>\n",
       "      <th>4</th>\n",
       "      <td>Art Museums</td>\n",
       "      <td>4bf58dd8d48988d18f941735</td>\n",
       "      <td>37.785484</td>\n",
       "      <td>-122.402451</td>\n",
       "      <td>45dc447bf964a52001431fe3</td>\n",
       "    </tr>\n",
       "  </tbody>\n",
       "</table>\n",
       "</div>"
      ],
      "text/plain": [
       "         category               category_id        lat         lng  \\\n",
       "0         Gardens  4bf58dd8d48988d15a941735  37.784809 -122.402549   \n",
       "1  Grocery Stores  4bf58dd8d48988d118951735  37.785540 -122.405455   \n",
       "2   Burger Joints  4bf58dd8d48988d16c941735  37.784816 -122.403537   \n",
       "3       Tea Rooms  4bf58dd8d48988d1dc931735  37.784253 -122.402179   \n",
       "4     Art Museums  4bf58dd8d48988d18f941735  37.785484 -122.402451   \n",
       "\n",
       "                   venue_id  \n",
       "0  49c94f32f964a52054581fe3  \n",
       "1  58a3a06dbbec6606e1b580a3  \n",
       "2  5010936ce4b0abd8740f8fb7  \n",
       "3  45e86d76f964a5206a431fe3  \n",
       "4  45dc447bf964a52001431fe3  "
      ]
     },
     "execution_count": 217,
     "metadata": {},
     "output_type": "execute_result"
    }
   ],
   "source": [
    "top_nearby_category.head()"
   ]
  },
  {
   "cell_type": "code",
   "execution_count": 349,
   "metadata": {},
   "outputs": [
    {
     "data": {
      "text/html": [
       "\n",
       "        <iframe\n",
       "            width=\"700\"\n",
       "            height=\"500\"\n",
       "            src=\"nearby_location_category_cluster.html\"\n",
       "            frameborder=\"0\"\n",
       "            allowfullscreen\n",
       "        ></iframe>\n",
       "        "
      ],
      "text/plain": [
       "<IPython.lib.display.IFrame at 0x1a2d3f8dd8>"
      ]
     },
     "execution_count": 349,
     "metadata": {},
     "output_type": "execute_result"
    }
   ],
   "source": [
    "map = folium.Map(location=SF_COORDINATES, zoom_start=14)\n",
    "for nearby in top_nearby_category.iterrows():\n",
    "    lat, lng = nearby[1]['lat'], nearby[1]['lng']\n",
    "    folium.CircleMarker(location=[lat, lng]).add_to(map)\n",
    "map.save('nearby_location_category_cluster.html')\n",
    "IFrame(src='nearby_location_category_cluster.html', width=700, height=500)"
   ]
  },
  {
   "cell_type": "code",
   "execution_count": null,
   "metadata": {},
   "outputs": [],
   "source": []
  },
  {
   "cell_type": "code",
   "execution_count": null,
   "metadata": {},
   "outputs": [],
   "source": []
  },
  {
   "cell_type": "code",
   "execution_count": null,
   "metadata": {},
   "outputs": [],
   "source": []
  },
  {
   "cell_type": "markdown",
   "metadata": {},
   "source": [
    "### Category above will be clustered around San Francisco. "
   ]
  },
  {
   "cell_type": "code",
   "execution_count": 25,
   "metadata": {},
   "outputs": [
    {
     "data": {
      "text/html": [
       "<div>\n",
       "<style scoped>\n",
       "    .dataframe tbody tr th:only-of-type {\n",
       "        vertical-align: middle;\n",
       "    }\n",
       "\n",
       "    .dataframe tbody tr th {\n",
       "        vertical-align: top;\n",
       "    }\n",
       "\n",
       "    .dataframe thead th {\n",
       "        text-align: right;\n",
       "    }\n",
       "</style>\n",
       "<table border=\"1\" class=\"dataframe\">\n",
       "  <thead>\n",
       "    <tr style=\"text-align: right;\">\n",
       "      <th></th>\n",
       "      <th>Category</th>\n",
       "      <th>Category ID</th>\n",
       "      <th>Count</th>\n",
       "    </tr>\n",
       "  </thead>\n",
       "  <tbody>\n",
       "    <tr>\n",
       "      <th>0</th>\n",
       "      <td>Boutiques</td>\n",
       "      <td>4bf58dd8d48988d104951735</td>\n",
       "      <td>4</td>\n",
       "    </tr>\n",
       "    <tr>\n",
       "      <th>1</th>\n",
       "      <td>Wine Shops</td>\n",
       "      <td>4bf58dd8d48988d119951735</td>\n",
       "      <td>4</td>\n",
       "    </tr>\n",
       "    <tr>\n",
       "      <th>2</th>\n",
       "      <td>Gyms or Fitness Centers</td>\n",
       "      <td>4bf58dd8d48988d175941735</td>\n",
       "      <td>4</td>\n",
       "    </tr>\n",
       "    <tr>\n",
       "      <th>3</th>\n",
       "      <td>Hotels</td>\n",
       "      <td>4bf58dd8d48988d1fa931735</td>\n",
       "      <td>3</td>\n",
       "    </tr>\n",
       "    <tr>\n",
       "      <th>4</th>\n",
       "      <td>Tea Rooms</td>\n",
       "      <td>4bf58dd8d48988d1dc931735</td>\n",
       "      <td>3</td>\n",
       "    </tr>\n",
       "    <tr>\n",
       "      <th>5</th>\n",
       "      <td>Coffee Shops</td>\n",
       "      <td>4bf58dd8d48988d1e0931735</td>\n",
       "      <td>3</td>\n",
       "    </tr>\n",
       "    <tr>\n",
       "      <th>6</th>\n",
       "      <td>Museums</td>\n",
       "      <td>4bf58dd8d48988d181941735</td>\n",
       "      <td>3</td>\n",
       "    </tr>\n",
       "    <tr>\n",
       "      <th>7</th>\n",
       "      <td>Gardens</td>\n",
       "      <td>4bf58dd8d48988d15a941735</td>\n",
       "      <td>2</td>\n",
       "    </tr>\n",
       "    <tr>\n",
       "      <th>8</th>\n",
       "      <td>Sushi Restaurants</td>\n",
       "      <td>4bf58dd8d48988d1d2941735</td>\n",
       "      <td>2</td>\n",
       "    </tr>\n",
       "    <tr>\n",
       "      <th>9</th>\n",
       "      <td>Music Venues</td>\n",
       "      <td>4bf58dd8d48988d1e5931735</td>\n",
       "      <td>2</td>\n",
       "    </tr>\n",
       "    <tr>\n",
       "      <th>10</th>\n",
       "      <td>Cocktail Bars</td>\n",
       "      <td>4bf58dd8d48988d11e941735</td>\n",
       "      <td>2</td>\n",
       "    </tr>\n",
       "    <tr>\n",
       "      <th>11</th>\n",
       "      <td>Spas</td>\n",
       "      <td>4bf58dd8d48988d1ed941735</td>\n",
       "      <td>2</td>\n",
       "    </tr>\n",
       "    <tr>\n",
       "      <th>12</th>\n",
       "      <td>Chinese Restaurants</td>\n",
       "      <td>4bf58dd8d48988d145941735</td>\n",
       "      <td>2</td>\n",
       "    </tr>\n",
       "    <tr>\n",
       "      <th>13</th>\n",
       "      <td>Burger Joints</td>\n",
       "      <td>4bf58dd8d48988d16c941735</td>\n",
       "      <td>2</td>\n",
       "    </tr>\n",
       "    <tr>\n",
       "      <th>14</th>\n",
       "      <td>Gyms</td>\n",
       "      <td>4bf58dd8d48988d176941735</td>\n",
       "      <td>2</td>\n",
       "    </tr>\n",
       "    <tr>\n",
       "      <th>15</th>\n",
       "      <td>Art Museums</td>\n",
       "      <td>4bf58dd8d48988d18f941735</td>\n",
       "      <td>2</td>\n",
       "    </tr>\n",
       "    <tr>\n",
       "      <th>16</th>\n",
       "      <td>Grocery Stores</td>\n",
       "      <td>4bf58dd8d48988d118951735</td>\n",
       "      <td>2</td>\n",
       "    </tr>\n",
       "    <tr>\n",
       "      <th>17</th>\n",
       "      <td>Vietnamese Restaurants</td>\n",
       "      <td>4bf58dd8d48988d14a941735</td>\n",
       "      <td>2</td>\n",
       "    </tr>\n",
       "  </tbody>\n",
       "</table>\n",
       "</div>"
      ],
      "text/plain": [
       "                   Category               Category ID  Count\n",
       "0                 Boutiques  4bf58dd8d48988d104951735      4\n",
       "1                Wine Shops  4bf58dd8d48988d119951735      4\n",
       "2   Gyms or Fitness Centers  4bf58dd8d48988d175941735      4\n",
       "3                    Hotels  4bf58dd8d48988d1fa931735      3\n",
       "4                 Tea Rooms  4bf58dd8d48988d1dc931735      3\n",
       "5              Coffee Shops  4bf58dd8d48988d1e0931735      3\n",
       "6                   Museums  4bf58dd8d48988d181941735      3\n",
       "7                   Gardens  4bf58dd8d48988d15a941735      2\n",
       "8         Sushi Restaurants  4bf58dd8d48988d1d2941735      2\n",
       "9              Music Venues  4bf58dd8d48988d1e5931735      2\n",
       "10            Cocktail Bars  4bf58dd8d48988d11e941735      2\n",
       "11                     Spas  4bf58dd8d48988d1ed941735      2\n",
       "12      Chinese Restaurants  4bf58dd8d48988d145941735      2\n",
       "13            Burger Joints  4bf58dd8d48988d16c941735      2\n",
       "14                     Gyms  4bf58dd8d48988d176941735      2\n",
       "15              Art Museums  4bf58dd8d48988d18f941735      2\n",
       "16           Grocery Stores  4bf58dd8d48988d118951735      2\n",
       "17   Vietnamese Restaurants  4bf58dd8d48988d14a941735      2"
      ]
     },
     "execution_count": 25,
     "metadata": {},
     "output_type": "execute_result"
    }
   ],
   "source": [
    "top_category"
   ]
  },
  {
   "cell_type": "markdown",
   "metadata": {},
   "source": [
    "####  \n",
    "####  Plotting Boutique Location\n",
    "####    "
   ]
  },
  {
   "cell_type": "code",
   "execution_count": 272,
   "metadata": {},
   "outputs": [],
   "source": [
    "boutiques_location = foursquare_client.venues.search(params={\n",
    "    'query': 'Boutique',                                                         \n",
    "    'll': '37.7749, -122.4194'\n",
    "})"
   ]
  },
  {
   "cell_type": "code",
   "execution_count": 351,
   "metadata": {},
   "outputs": [
    {
     "data": {
      "text/html": [
       "\n",
       "        <iframe\n",
       "            width=\"700\"\n",
       "            height=\"500\"\n",
       "            src=\"boutique_location.html\"\n",
       "            frameborder=\"0\"\n",
       "            allowfullscreen\n",
       "        ></iframe>\n",
       "        "
      ],
      "text/plain": [
       "<IPython.lib.display.IFrame at 0x1a2d412630>"
      ]
     },
     "execution_count": 351,
     "metadata": {},
     "output_type": "execute_result"
    }
   ],
   "source": [
    "m = folium.Map(location=SF_COORDINATES, zoom_start=12)\n",
    "for i, venue in enumerate(boutiques_location['venues'], 1):\n",
    "    location = venue['location']\n",
    "    folium.Marker(location=[location['lat'], location['lng']]).add_to(m)\n",
    "m.save('boutique_location.html')\n",
    "IFrame(src='boutique_location.html', width=700, height=500)"
   ]
  },
  {
   "cell_type": "markdown",
   "metadata": {},
   "source": [
    "####  \n",
    "####  Plotting Wine Shop Location\n",
    "####    "
   ]
  },
  {
   "cell_type": "code",
   "execution_count": 229,
   "metadata": {},
   "outputs": [],
   "source": [
    "wine_shops_location = foursquare_client.venues.search(params={\n",
    "    'query': 'wine shop',                                                         \n",
    "    'll': '37.7749, -122.4194'\n",
    "})"
   ]
  },
  {
   "cell_type": "code",
   "execution_count": 352,
   "metadata": {},
   "outputs": [
    {
     "data": {
      "text/html": [
       "\n",
       "        <iframe\n",
       "            width=\"700\"\n",
       "            height=\"500\"\n",
       "            src=\"wine_shop_location.html\"\n",
       "            frameborder=\"0\"\n",
       "            allowfullscreen\n",
       "        ></iframe>\n",
       "        "
      ],
      "text/plain": [
       "<IPython.lib.display.IFrame at 0x1a2d5edd68>"
      ]
     },
     "execution_count": 352,
     "metadata": {},
     "output_type": "execute_result"
    }
   ],
   "source": [
    "m = folium.Map(location=SF_COORDINATES, zoom_start=12)\n",
    "for i, venue in enumerate(wine_shops_location['venues'], 1):\n",
    "    location = venue['location']\n",
    "    folium.Marker(location=[location['lat'], location['lng']]).add_to(m)\n",
    "m.save('wine_shop_location.html')\n",
    "IFrame(src='wine_shop_location.html', width=700, height=500)"
   ]
  },
  {
   "cell_type": "markdown",
   "metadata": {},
   "source": [
    "####  \n",
    "####  Plotting Gym Location\n",
    "####    "
   ]
  },
  {
   "cell_type": "code",
   "execution_count": 232,
   "metadata": {},
   "outputs": [],
   "source": [
    "gym_location = foursquare_client.venues.search(params={\n",
    "    'query': 'gym',                                                         \n",
    "    'll': '37.7749, -122.4194'\n",
    "})"
   ]
  },
  {
   "cell_type": "code",
   "execution_count": 354,
   "metadata": {},
   "outputs": [
    {
     "data": {
      "text/html": [
       "\n",
       "        <iframe\n",
       "            width=\"700\"\n",
       "            height=\"500\"\n",
       "            src=\"gym_location.html\"\n",
       "            frameborder=\"0\"\n",
       "            allowfullscreen\n",
       "        ></iframe>\n",
       "        "
      ],
      "text/plain": [
       "<IPython.lib.display.IFrame at 0x1a2d6f10f0>"
      ]
     },
     "execution_count": 354,
     "metadata": {},
     "output_type": "execute_result"
    }
   ],
   "source": [
    "m = folium.Map(location=SF_COORDINATES, zoom_start=12)\n",
    "for i, venue in enumerate(gym_location['venues'], 1):\n",
    "    location = venue['location']\n",
    "    folium.Marker(location=[location['lat'], location['lng']]).add_to(m)\n",
    "m.save('gym_location.html')\n",
    "IFrame(src='gym_location.html', width=700, height=500)"
   ]
  },
  {
   "cell_type": "markdown",
   "metadata": {},
   "source": [
    "####  \n",
    "####  Plotting Hotel Location\n",
    "####    "
   ]
  },
  {
   "cell_type": "code",
   "execution_count": 270,
   "metadata": {},
   "outputs": [],
   "source": [
    "hotels_location = foursquare_client.venues.search(params={\n",
    "    'query': 'Hotels',                                                         \n",
    "    'll': '37.7749, -122.4194'\n",
    "})"
   ]
  },
  {
   "cell_type": "code",
   "execution_count": 355,
   "metadata": {},
   "outputs": [
    {
     "data": {
      "text/html": [
       "\n",
       "        <iframe\n",
       "            width=\"700\"\n",
       "            height=\"500\"\n",
       "            src=\"hotels_location.html\"\n",
       "            frameborder=\"0\"\n",
       "            allowfullscreen\n",
       "        ></iframe>\n",
       "        "
      ],
      "text/plain": [
       "<IPython.lib.display.IFrame at 0x1a2d687fd0>"
      ]
     },
     "execution_count": 355,
     "metadata": {},
     "output_type": "execute_result"
    }
   ],
   "source": [
    "m = folium.Map(location=SF_COORDINATES, zoom_start=12)\n",
    "for i, venue in enumerate(hotels_location['venues'], 1):\n",
    "    location = venue['location']\n",
    "    folium.Marker(location=[location['lat'], location['lng']]).add_to(m)\n",
    "m.save('hotels_location.html')\n",
    "IFrame(src='hotels_location.html', width=700, height=500)"
   ]
  },
  {
   "cell_type": "markdown",
   "metadata": {},
   "source": [
    "###    \n",
    "###  Get the location pointers for top 4 categories, which in combincation makes a popular area for starbucks outlet. \n",
    "###   "
   ]
  },
  {
   "cell_type": "code",
   "execution_count": 274,
   "metadata": {},
   "outputs": [],
   "source": [
    "gyms = pd.DataFrame([{'lat': venue['location']['lat'],\n",
    "              'lng': venue['location']['lng']} for venue in gym_location['venues']])\n",
    "wine_shops = pd.DataFrame([{'lat': venue['location']['lat'],\n",
    "              'lng': venue['location']['lng']} for venue in wine_shops_location['venues']])\n",
    "boutiques = pd.DataFrame([{'lat': venue['location']['lat'],\n",
    "              'lng': venue['location']['lng']} for venue in boutiques_location['venues']])\n",
    "hotels = pd.DataFrame([{'lat': venue['location']['lat'],\n",
    "              'lng': venue['location']['lng']} for venue in hotels_location['venues']])"
   ]
  },
  {
   "cell_type": "markdown",
   "metadata": {},
   "source": [
    "      "
   ]
  },
  {
   "cell_type": "markdown",
   "metadata": {},
   "source": [
    "### Clustering location using K-Means to find out the area having top 4 location nearby in San Francisco."
   ]
  },
  {
   "cell_type": "markdown",
   "metadata": {},
   "source": [
    "######     "
   ]
  },
  {
   "cell_type": "code",
   "execution_count": 304,
   "metadata": {},
   "outputs": [],
   "source": [
    "def cluster(dframe, centroids_data):\n",
    "    kmeans = KMeans(n_clusters=5).fit(dframe)\n",
    "    centroids = kmeans.cluster_centers_\n",
    "    centroids_data.extend(centroids)\n",
    "\n",
    "    plt.scatter(dframe['lat'], dframe['lng'], c= kmeans.labels_.astype(float), s=50, alpha=0.5)\n",
    "    plt.scatter(centroids[:, 0], centroids[:, 1], c='red', s=50)\n",
    "    plt.ylabel('LNG')\n",
    "    plt.xlabel('LAT')\n",
    "    plt.grid(True)"
   ]
  },
  {
   "cell_type": "code",
   "execution_count": 305,
   "metadata": {},
   "outputs": [
    {
     "data": {
      "image/png": "[encoded data removed]",
      "text/plain": [
       "<Figure size 432x288 with 1 Axes>"
      ]
     },
     "metadata": {
      "needs_background": "light"
     },
     "output_type": "display_data"
    }
   ],
   "source": [
    "centroids_data = []\n",
    "cluster(gyms, centroids_data)\n",
    "cluster(wine_shops, centroids_data)\n",
    "cluster(boutiques, centroids_data)\n",
    "cluster(hotels, centroids_data)"
   ]
  },
  {
   "cell_type": "markdown",
   "metadata": {},
   "source": [
    "####    \n",
    "###  Above cluster shows that most of the location for top 4 category are clustered between LAT: 37.7 and 37.8, and LNG: -122.4 and -122.5  \n",
    "####    "
   ]
  },
  {
   "cell_type": "markdown",
   "metadata": {},
   "source": [
    "### Get all the centroid in the map"
   ]
  },
  {
   "cell_type": "code",
   "execution_count": 364,
   "metadata": {},
   "outputs": [
    {
     "data": {
      "text/html": [
       "\n",
       "        <iframe\n",
       "            width=\"700\"\n",
       "            height=\"500\"\n",
       "            src=\"centroid.html\"\n",
       "            frameborder=\"0\"\n",
       "            allowfullscreen\n",
       "        ></iframe>\n",
       "        "
      ],
      "text/plain": [
       "<IPython.lib.display.IFrame at 0x1a2d6261d0>"
      ]
     },
     "execution_count": 364,
     "metadata": {},
     "output_type": "execute_result"
    }
   ],
   "source": [
    "m = folium.Map(location=SF_COORDINATES, zoom_start=12)\n",
    "for centroid in centroids_data:\n",
    "    if 37.7 < centroid[0] < 37.8 and -122.4 > centroid[1] > -122.5:\n",
    "        folium.Marker(location=centroid).add_to(m)\n",
    "m.save('centroid.html')\n",
    "IFrame(src='centroid.html', width=700, height=500)"
   ]
  },
  {
   "cell_type": "markdown",
   "metadata": {},
   "source": [
    "###    \n",
    "### Above map is generated based on the centroid data given by k-means algorithm. And these location are nearby or close to the top 4 location category. Which in turn giving starbucks a choice to pick one of the location for the new outlet. \n",
    "###   "
   ]
  },
  {
   "cell_type": "code",
   "execution_count": null,
   "metadata": {},
   "outputs": [],
   "source": []
  }
 ],
 "metadata": {
  "kernelspec": {
   "display_name": "Python 3",
   "language": "python",
   "name": "python3"
  },
  "language_info": {
   "codemirror_mode": {
    "name": "ipython",
    "version": 3
   },
   "file_extension": ".py",
   "mimetype": "text/x-python",
   "name": "python",
   "nbconvert_exporter": "python",
   "pygments_lexer": "ipython3",
   "version": "3.7.3"
  }
 },
 "nbformat": 4,
 "nbformat_minor": 2
}
